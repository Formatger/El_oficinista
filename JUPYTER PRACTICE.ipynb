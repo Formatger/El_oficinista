{
 "cells": [
  {
   "cell_type": "code",
   "execution_count": 3,
   "id": "b3a12652",
   "metadata": {
    "collapsed": true
   },
   "outputs": [
    {
     "name": "stdout",
     "output_type": "stream",
     "text": [
      "hello jupyter\n"
     ]
    }
   ],
   "source": [
    "print(\"hello jupyter\")"
   ]
  },
  {
   "cell_type": "code",
   "execution_count": 9,
   "id": "00a16b74",
   "metadata": {},
   "outputs": [
    {
     "name": "stdout",
     "output_type": "stream",
     "text": [
      "hola introduce tu edad\n",
      "20\n",
      "tu edad en 20 años será:  40\n"
     ]
    }
   ],
   "source": [
    "a = \"hola\"\n",
    "print(a + \" introduce tu edad\")\n",
    "edad = input()\n",
    "c = int(edad) + 20\n",
    "print(\"tu edad en 20 años será: \" , c)\n",
    "\n",
    "\n"
   ]
  },
  {
   "cell_type": "code",
   "execution_count": 6,
   "id": "e890f20d",
   "metadata": {},
   "outputs": [
    {
     "name": "stdout",
     "output_type": "stream",
     "text": [
      "hola 0.2 hola\n"
     ]
    }
   ],
   "source": [
    "a = 0.2\n",
    "print('hola', a, 'hola')"
   ]
  },
  {
   "cell_type": "code",
   "execution_count": 21,
   "id": "edc07f8f",
   "metadata": {},
   "outputs": [
    {
     "name": "stdout",
     "output_type": "stream",
     "text": [
      "p\n",
      "r\n",
      "o\n",
      "b\n",
      "l\n",
      "e\n",
      "m\n",
      "a\n",
      "range(0, 8)\n",
      "8\n"
     ]
    }
   ],
   "source": [
    "a = 'problema'\n",
    "for i in range(len(a)):\n",
    "    print(a[i])\n",
    "\n",
    "print(range(len(a)))\n",
    "print(len(a))\n"
   ]
  }
 ],
 "metadata": {
  "kernelspec": {
   "display_name": "Python 3 (ipykernel)",
   "language": "python",
   "name": "python3"
  },
  "language_info": {
   "codemirror_mode": {
    "name": "ipython",
    "version": 3
   },
   "file_extension": ".py",
   "mimetype": "text/x-python",
   "name": "python",
   "nbconvert_exporter": "python",
   "pygments_lexer": "ipython3",
   "version": "3.11.3"
  }
 },
 "nbformat": 4,
 "nbformat_minor": 5
}
